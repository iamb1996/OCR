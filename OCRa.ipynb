{
  "nbformat": 4,
  "nbformat_minor": 0,
  "metadata": {
    "colab": {
      "provenance": [],
      "private_outputs": true,
      "authorship_tag": "ABX9TyNhiEzrhXIogJxBChm8b0sq",
      "include_colab_link": true
    },
    "kernelspec": {
      "name": "python3",
      "display_name": "Python 3"
    },
    "language_info": {
      "name": "python"
    },
    "accelerator": "GPU",
    "gpuClass": "standard"
  },
  "cells": [
    {
      "cell_type": "markdown",
      "metadata": {
        "id": "view-in-github",
        "colab_type": "text"
      },
      "source": [
        "<a href=\"https://colab.research.google.com/github/iamb1996/OCR/blob/main/OCRa.ipynb\" target=\"_parent\"><img src=\"https://colab.research.google.com/assets/colab-badge.svg\" alt=\"Open In Colab\"/></a>"
      ]
    },
    {
      "cell_type": "code",
      "source": [
        "from google.colab import drive\n",
        "drive.mount('/content/drive')"
      ],
      "metadata": {
        "id": "NUuYAItFMu_U"
      },
      "execution_count": null,
      "outputs": []
    },
    {
      "cell_type": "code",
      "source": [
        "import pytesseract as pt\n",
        "import os\n",
        "import cv2\n",
        "import pytesseract\n",
        "import os\n",
        "import fitz  # PyMuPDF\n",
        "import io\n",
        "from PIL import Image\n"
      ],
      "metadata": {
        "id": "vOUdHXKzNlHF"
      },
      "execution_count": null,
      "outputs": []
    },
    {
      "cell_type": "markdown",
      "source": [
        "extract images"
      ],
      "metadata": {
        "id": "bjRwWmEQeTJ0"
      }
    },
    {
      "cell_type": "code",
      "source": [
        "fichier = \"/content/drive/MyDrive/Datasets/DRIVE/OCR/fichier.pdf\"\n",
        "fichier2 = \"/content/drive/MyDrive/Datasets/DRIVE/OCR/오피스바이블_VO_002-1.pdf\""
      ],
      "metadata": {
        "id": "ttUBqDFCeUSd"
      },
      "execution_count": null,
      "outputs": []
    },
    {
      "cell_type": "markdown",
      "source": [
        "extract text from images"
      ],
      "metadata": {
        "id": "cJur26_unKA4"
      }
    },
    {
      "cell_type": "markdown",
      "source": [
        "Extract images with advanced techniques"
      ],
      "metadata": {
        "id": "pkqLnaksmcrc"
      }
    },
    {
      "cell_type": "code",
      "source": [
        "# Output directory for the extracted images\n",
        "output_dir = \"/content/drive/MyDrive/Datasets/DRIVE/OCR/extracted_images\"\n",
        "# Output directory for extracted txt\n",
        "txt_output = \"/content/drive/MyDrive/Datasets/DRIVE/OCR/extracted_text\"\n",
        "# Desired output image format\n",
        "output_format = \"png\"\n",
        "# Minimum width and height for extracted images\n",
        "min_width = 100\n",
        "min_height = 100\n",
        "# Create the output directory if it does not exist\n",
        "if not os.path.exists(output_dir):\n",
        "    os.makedirs(output_dir)\n",
        "# Create the output directory if it does not exist\n",
        "if not os.path.exists(txt_output):\n",
        "    os.makedirs(txt_output)"
      ],
      "metadata": {
        "id": "Rbz9Qgyss-U3"
      },
      "execution_count": null,
      "outputs": []
    },
    {
      "cell_type": "code",
      "source": [
        "# 1 repository that contains all the pdf that will be OCR \n",
        "# 2- generate another repo with a bloc note for each pdf file\n",
        "# 3- generate another repo who contains a repo for each pdf treated\n",
        "#what i'm gonna do : iterate over 1 and name repo at 3 depending on the pdf file\n",
        "\n",
        "# file path you want to extract images from\n",
        "# open the file\n",
        "pdf_file = fitz.open(fichier2)\n",
        "# "
      ],
      "metadata": {
        "id": "jOtbestUtYM4"
      },
      "execution_count": null,
      "outputs": []
    },
    {
      "cell_type": "code",
      "source": [
        "# extract images from pdf_file and stock it in extract_images\n",
        "def extract_images(pdf_file):\n",
        "  # Iterate over PDF pages\n",
        "  for page_index in range(len(pdf_file)):\n",
        "    # Get the page itself\n",
        "    page = pdf_file[page_index]\n",
        "    # Get image list\n",
        "    image_list = page.get_images(full=True)\n",
        "    # Print the number of images found on this page\n",
        "    if image_list:\n",
        "        print(f\"[+] Found a total of {len(image_list)} images in page {page_index}\")\n",
        "    else:\n",
        "        print(f\"[!] No images found on page {page_index}\")\n",
        "    # Iterate over the images on the page\n",
        "    for image_index, img in enumerate(image_list, start=1):\n",
        "        # Get the XREF of the image\n",
        "        xref = img[0]\n",
        "        # Extract the image bytes\n",
        "        base_image = pdf_file.extract_image(xref)\n",
        "        image_bytes = base_image[\"image\"]\n",
        "        # Get the image extension\n",
        "        image_ext = base_image[\"ext\"]\n",
        "        # Load it to PIL\n",
        "        image = Image.open(io.BytesIO(image_bytes))\n",
        "        # Check if the image meets the minimum dimensions and save it\n",
        "        if image.width >= min_width and image.height >= min_height:\n",
        "            image.save(\n",
        "                open(os.path.join(output_dir, f\"image{page_index + 1}_{image_index}.{output_format}\"), \"wb\"),\n",
        "                format=output_format.upper())\n",
        "        else:\n",
        "            print(f\"[-] Skipping image {image_index} on page {page_index} due to its small size.\")\n",
        "\n"
      ],
      "metadata": {
        "id": "nQnpJB7K-ORh"
      },
      "execution_count": null,
      "outputs": []
    },
    {
      "cell_type": "code",
      "source": [
        "extract_images(pdf_file)"
      ],
      "metadata": {
        "id": "x2GIOLyEta3s"
      },
      "execution_count": null,
      "outputs": []
    },
    {
      "cell_type": "code",
      "source": [
        "# extract text from all the images in a folder\n",
        "# storing the text in a single file\n",
        "from PIL import Image\n",
        "import pytesseract as pt\n",
        "import os\n",
        "import re \n",
        "\n",
        "def main():\n",
        "    # path for the folder for getting the raw images\n",
        "    path =\"/content/drive/MyDrive/Datasets/DRIVE/OCR/extracted_images\"\n",
        "  \n",
        "    # link to the file in which output needs to be kept\n",
        "    fullTempPath =\"/content/drive/MyDrive/Datasets/DRIVE/OCR/extracted_text/out.txt\"\n",
        "  \n",
        "    # iterating the images inside the folder\n",
        "    for imageName in os.listdir(path):\n",
        "        inputPath = os.path.join(path, imageName)\n",
        "        #img = Image.open(inputPath)\n",
        "        img = cv2.imread(inputPath)\n",
        "        text = pytesseract.image_to_string(img , lang='kor')\n",
        "        text = text.replace(\"\\n\" , \" \")\n",
        "        text = re.sub('\\W+',' ', text )\n",
        "\n",
        "  \n",
        "        # saving the  text for appending it to the output.txt file\n",
        "        # a + parameter used for creating the file if not present\n",
        "        # and if present then append the text content\n",
        "        file1 = open(fullTempPath, \"a+\")\n",
        "  \n",
        "        # providing the name of the image\n",
        "        file1.write(imageName+\"\\n\")\n",
        "  \n",
        "        # providing the content in the image\n",
        "        file1.write(text + \"\\n\")\n",
        "        file1.close() \n",
        "  \n",
        "    # for printing the output file\n",
        "    file2 = open(fullTempPath, 'r')\n",
        "    print(file2.read())\n",
        "    file2.close()        \n",
        "  \n",
        "  \n",
        "if __name__ == '__main__':\n",
        "    main()"
      ],
      "metadata": {
        "id": "_7TGJd2Ms-OP"
      },
      "execution_count": null,
      "outputs": []
    }
  ]
}